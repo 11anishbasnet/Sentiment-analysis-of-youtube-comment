{
 "cells": [
  {
   "cell_type": "code",
   "execution_count": 1,
   "metadata": {},
   "outputs": [],
   "source": [
    "# pip install selenium\n",
    "# pip install beautifulsoup4\n",
    "# pip install webdriver-manager\n",
    "from selenium import webdriver\n",
    "from webdriver_manager.chrome import ChromeDriverManager\n",
    "from bs4 import BeautifulSoup\n",
    "import time\n",
    "\n",
    "# Importing Pandas to create DataFrame\n",
    "import pandas as pd\n",
    "# Importing numpy\n",
    "import numpy as np\n"
   ]
  },
  {
   "cell_type": "code",
   "execution_count": 2,
   "metadata": {},
   "outputs": [],
   "source": [
    "#creating global variable for running loop to save into dataframe for individual videos number wise...\n",
    "i = 0\n",
    "\n",
    "def ScrapComment(url):\n",
    "    option = webdriver.ChromeOptions()\n",
    "    option.add_argument(\"--headless\")\n",
    "    driver = webdriver.Chrome(executable_path=ChromeDriverManager().install(), options=option)\n",
    "    driver.get(url)\n",
    "    time.sleep(10)\n",
    "    prev_h = 0\n",
    "    while True:\n",
    "        height = driver.execute_script(\"\"\"\n",
    "                function getActualHeight() {\n",
    "                    return Math.max(\n",
    "                        Math.max(document.body.scrollHeight, document.documentElement.scrollHeight),\n",
    "                        Math.max(document.body.offsetHeight, document.documentElement.offsetHeight),\n",
    "                        Math.max(document.body.clientHeight, document.documentElement.clientHeight)\n",
    "                    );\n",
    "                }\n",
    "                return getActualHeight();\n",
    "            \"\"\")\n",
    "        driver.execute_script(f\"window.scrollTo({prev_h},{prev_h + 200})\")\n",
    "        # fix the time sleep value according to your network connection\n",
    "        time.sleep(1)\n",
    "        prev_h +=300  \n",
    "        if prev_h >= height:\n",
    "            break\n",
    "    soup = BeautifulSoup(driver.page_source, 'html.parser')\n",
    "    driver.quit()\n",
    "    title_text_div = soup.select_one('#container h1')\n",
    "    title = title_text_div and title_text_div.text\n",
    "    comment_div = soup.select(\"#content #content-text\")\n",
    "    comment_list = [x.text for x in comment_div]\n",
    "    print(title, comment_list)\n",
    "    df =pd.DataFrame(comment_list,columns=['comments'])\n",
    "    df[\"sentiments\"] = \"\"\n",
    "\n",
    "    #using globle variable i and modifying it after saving into csv\n",
    "    global i\n",
    "    df.to_csv(\"C:\\\\Users\\\\11ani\\\\OneDrive\\\\Desktop\\\\project 7th sem code\\\\raw_comments\\\\\"+str(i)+\"raw.csv\")\n",
    "    i = i+1\n",
    "    print(df)"
   ]
  },
  {
   "cell_type": "code",
   "execution_count": 3,
   "metadata": {},
   "outputs": [
    {
     "name": "stderr",
     "output_type": "stream",
     "text": [
      "[WDM] - Downloading: 100%|██████████| 6.78M/6.78M [00:00<00:00, 8.68MB/s]\n",
      "C:\\Users\\11ani\\AppData\\Local\\Temp\\ipykernel_5408\\1542848003.py:7: DeprecationWarning: executable_path has been deprecated, please pass in a Service object\n",
      "  driver = webdriver.Chrome(executable_path=ChromeDriverManager().install(), options=option)\n"
     ]
    },
    {
     "name": "stdout",
     "output_type": "stream",
     "text": [
      "How GEOPOLITICS Killed Nepali Garment Industry ['Nepal was a leading country in material industries.. its just sad seeing where we have come from then! Political instabillity le desh lai ekdam pachi parya xa.. hopefully good days come.. ️ Keep up the contents bro.', 'I never knew we had such a early head start in a garment industry but unfortunately our nation politics killed most of our industry, i just hope we can recover from this anyways thanks a lot for making this video, you are great ', 'My dad owned a garment factory during that time. Used to feel so proud seeing our products were gonna be worn by foreigners. 500 workers were employed in our factory. But when the industry collapsed it hit all of our homes hard.', 'Loved the video bro , you must now be consistent , many of us are too addictive towards your channel that we watch your video many times , Hope you will try to upload video quiet fast \\n\\nKeep growing & giving knowledge to us ️', \"Was garment industry the only industry in Nepal?What about other industries? \\nWasn't it the Indian geopolitics that destroyed the Nepali industry market by buying out the industries but not running them like  biratnagar jute mill , Gorkhali rubber ? \\nCan you cover the video how the Biratnagar jute mill and Gorkhali tires failed ?\", 'Disclaimer: this channel is highly addictive ', 'Even my mom used to work for such garment industry in Biratnagar, but in 2010 AD because of political donations & load shedding they shifted the factory to India', 'My dream industry since childhood ️', 'Informative as always!!\\nI do remember two Garment industries at Hattiban, Lalitpur during my childhood days. The roads used to be flooded with crowd of people during office hours.', 'What an indepth research and a balanced take. Hats off!', 'Hats off for these types of content to the whole The Nepali Comment Team️', 'We really appreciate your hardwork bro....worthy content', 'We used to own hotel near one of those factory where a lot of Nepali and Indian workers used to work … we had steady income during that booming phase later when it hit decline we all had difficulty maintaining income ..', \"This channel has always give a positive message to the Nepalese who doesn't know the history of Nepal 🇳🇵🇳🇵\", 'Sir Can you Make a well perfect team to uplode one video per week.\\nWe need more beautiful content from TNC.', 'Good video. Time has been changed. Our Nepali community in US has increased significantly, we even have few Nepalese in US government. They can definitely support making trade relationships now on.', 'Hands up for your research ️', 'Yestai similar 1970- late 1980s tira carpet industry ma pani thriving exports hunthiyo re..but due to some scams by skilled senior workers from Darjeeling such as under invoicing etc etc le barbad pareko industry ...bhanera suneko thiye....dherai manche haru government le pakreko ra kati bhageko darjeeling kurseong tira bhanera suneko thiye...please research on this too.... Many people who couldnt be caught fled while many got wrongfully convicted and punished', 'I appreciate your efforts. Thanks for your content which is top-notch.', 'Excellent content brother. Keep up the good work.', 'You can give some solutions also \\nLove your content ️ keep going', 'You have outdone yourself. Great work and outstanding clarity', 'Please continue this kind of deep research. extremely superb!!!', 'The way of presentation is quite impressive ', 'Always awesome content ', 'This channel gonna Rise and Rise️', 'Dipesh Bro Good Going. ️️ Love Your Content. Keep on Uploading Contents Like this  ️️', 'I am addicted to this channel. Everyday, I search and scroll the videos of this channel. When I find no videos are uploaded, I am upset.', 'My mother shared me story how she used to work in garment bunking college to support family.', 'Bro hats off for your hard work for all the contents you create', 'GREAT CONTENT. KEEP IT UP DIPESH.', 'This man never dispointed us...', 'As always informative️', 'This channel is highly addictive', 'we need more content keep it up bro', 'This channel is growing day by day due to the truth fact', 'Subtly informative and new information ️', 'Your channel is addictive dude', 'Keep it rolling buddy! ️', 'Awesome content ️', 'Awesome  Keep them coming', 'Make more content like this ', 'Brother mah garment industry ko ho till date .. tapaiko subscriber 42K vaye Dekhi Saab video heriraaxu .. but never expected tapai garment industry ko video banaunu hunxa vanne .. thank you so much .. malai dherei thaha na vaye Pani etti chai thaha thiyo jaba Raja ( king ) hatyo yo chor neta Harle garment industry dwasta pardyo', 'Awaiting for this ️', 'Can you do a video about the agriculture sector of Nepal & and its future .', 'Finally, the new video ', 'Wonderful content.', 'Garment industry is coming back \\nBut in Nepal the labour cost is so high compared to other countries so high level Export is not possible.\\n\\nIt is based on full filling national demand.', 'When i hear background music of 7:00 automatically goosebumps...️', 'Wow your research,content really amazing..', \"Many youth dont know or don't care about how we transitted from monarchy to democracy...the story sounds more like a self emolation event!\", 'Nepal has almost 1:10 Export Import ratio with India, Nepal is a big market for Indian business house and ever since the eradication of load shedding from Nepal, the new industries has been growing. But due to recent financial liquidity problem and hike interest rate from bank, all the industries are about to collapse. Is this liquidity a new weapon for the destruction of industry in Nepal from foreigners??? Please go through this matter too.', 'Great content daju ', 'I come from Gaindakot, Nawalparasi, where numerous garment industries thrived when I was a child. These industries provided thousands of local people with employment opportunities and enabled them to earn decent wages without having to seek work in Gulf countries. It was common for at least one member of a family to be employed in these factories. It is unfortunate that these factories began shutting down, leading to job losses for many people. The Maoist conflict set the country back by 50 years, which is truly regrettable and unfortunate.', 'Sir, please make video on tragic downfall of Nepali  old Tele serial ?', 'Daily video aaune vako vaya jhan ramrilo hunthyo but weekly ni aajai ramro hunthyo  addicted to this channel', 'I am addicated towards your channel ', 'Sir weekly video chaiyo. Full support hamro tarfa bata ', 'Loved this channel', 'Always love your content', 'can you also create video on pasmina industry, which was once big\\n\\nThanks for the research', 'Please add english subtitle ', 'if possible: Impact of Kabbadi movie in Nepali movie industry', 'Massive loss ', 'Thank you for the content', 'Perfect content.', 'Great knowledge shared The Nepali Comment ', \"You've already partially  discussed the end of rana rule aka martyrs \\nSo please discuss the rise of rana rule in Nepal\", 'The Nepali Comment KO Content is most usedfull  And Unic ', 'yes even my fathera had garment used to export but due to bank n lack of government its get shutdown  and more than 100 workers lost their job', 'A humble suggestions for your channel:\\nMake a English dubbed version too.... U will hit new heights in Nepali YouTube industry!!!', 'Highly search  and investigation \\nThank you for your information  and this is ammizing', 'Aarko video chai rise of goldstar garunu sir 🇳🇵🇳🇵🇳🇵', 'Love the content', 'At the same time China started booming, big reasons is we are not only landlocked we are blocked ', \"Bangladesh took a huge leap forward because of garments industry, and our country thought garment isn't a real industry!  Buddhi hera bhagwan!\", 'What a research brother🇳🇵🇳🇵🇳🇵🇳🇵', 'Neta harulai dhanyabaad diu garment industry lai khattam parnema.', 'Amazing video. Graet content', 'Keep going ', \"Daily I'm waiting for your Video ️\", 'Thanks for video ', 'Waiting ️', 'पहिलेको नेपालमा विभिन्न फ्याक्ट्रीहरु रहेको पढन पाइयो , त्यो समयमा नेपालको अवस्था र अहिलेको अवस्था हेर्दा आकाश पातालको फरक छ । त्यो Golden Period थियो नेपाल र नेपालीको लागि तर आज ति पुराना बिकासका निम्ति खोलिएको ट्रली बस, गोरखकाली टायर उधोग, जनकपुर चुरोट कारखाना, भृकुटी कागज उधोग आदि इत्यादि लाई राजनीतिका आडमा बन्द गरियो। जसको कारण आज  सबै कुराहरु विदेशबाट आयात गर्नुपर्छ। अझै पनि नेपालका नेताहरु हात पाखुरा बलियो भएका हाम्रो साथी , बुबा र दिदि बहिनिलाई विदेश पठाएर आफु सत्ता र शक्तिको आडमा देशलाई झन झन दलदल तिर लग्दैछन । दुखद ', 'M always waiting your updates the Nepali comment ', 'Great information', 'Now it seems like a myth...Sad reality', 'Bangladesh ma ta garment industry 2022 samma ni boom hudai thyo. But how', 'I do see demerits of labor union in Nepal than any merits.', 'How can we bounce back in garment industry? Give solution', 'Eagerly waiting..', 'need case study on KMC education network', \"Sorry but honestly video alikati complex thiyo and I felt hard to understand some aspects.plz make video as simple as you can..don't describe in short just to minimize video length...but thank u for Ur content\", \"I believe in being responsible rather than blaming other..if there are shit people within our country we can't point finger on other\", 'Feri garment industry le compete garna sakena due to lack of adopting latest technology and other geopolitical reasons.', 'Damii bro keep it up', 'kapada udhyog.. . my mom worked here for like 2-3 years', 'Make video about Bhrikuti Pulp and Paper.', 'You’re the next dhruv rathee bro. \\U0001fae1', 'Mero mummy le pani gareko chandragadi ma garment chok ️️', 'Brother yo dhurmus suntali foundation ko ra international stadium ko ma ne banauna paryo yeuta video...', 'cement industry will be the next \\ntara dukha lahne kura we were never tought yesari in our school infact nothing about such industry \\nwe were only said to by heart and score marks wats the use we were  tought to be slaves', 'I am Diploma holder in Textile chemical processing and technology. \\nTara Nepal ma jagir khana sakena. Handful of industry ra tyesma pani ace chahine.', 'Hello bro Good Afternoon..\\n\\nDurbar hatyakanda ko barema video banauna paryo..', 'R & D chaayo nepal ma !!!', 'Make video About Late King Birendra', 'its simple first ma nepal ma industry chalda indian lagani karta le lagani garera  factory chalayo ani sajilo bhayo saaman india through pathauna tara jaba nepali haru aafaile lagani garera factory chalauna thalyo ani indian lagani karta haru haraudai gayo India lai ghata bhayo so after that sabai kura bigriyo ……', 'Bro resham Chaudhary maa euta video banauna yo in-depth story le ta sarai khattam kuro garyo.', 'Previous Thumbnail was more attractive', 'Love you brother', 'great learning', 'excited to much', 'हामी नेपाली आज सम्म एकता हुन जानेको छइनाउ । एक अर्का आपस मा भाइ चारा नभएर राजनीति ले आज हामी तल खसेका छौ। अब एक भई अगाडि बढउ', 'Information based channel..', 'Bro TU ko management mah pani  video banaunu nah', '️', 'Dami video bro️️', 'Thanks to Dhanayuddha and Ganatantra', 'next must be in  Bhrikuti Pulp and Paper   industry please\\n\\nand you have wrong map of nepal we must include kalapani in every vedio  where map of nepal is shown at = 2:52', 'Thanks for making.see you again', 'this channel need hig level security', '2015/16 तिर म इतिहाद मा काम गर्दा नेपाल बाट इंडिया, अबुधाबी हुदै न्यू योर्क र वॉशिंगटन नेपाली गलैचा कार्गो हुन्थ्यो तर पछी यो पनि बन्द भयो; मैले सुनेको थिये नेपाली गलैचा इंडियाले नक्कल गरेर आफैले न्यू योर्क पठाउने काम गर्छ भनेर तर मा गलत हुन पनि सक्छु', 'Third world means countries neutral during Cold War and even includes Ireland, Switzerland, Finland, etc. But in west especially US feelings are more popular than facts.', 'Now Bangladesh is the textile capital of world', 'Ekdin Hotel industry pani collapse hunxa hola', 'Sabai Nepali haru milera, sabai neta haru ko ghati katera football khelyo vane matra aba Nepal change huncha, natra hudaina. Sidha kura, ani sabai neta vane pachi sabbai nai, sano thulo sabai ko ghati katnai parcha ani balla kei huncha.', 'Nepali dhruv rathee️', 'Nepal le growth gareko euta pani sector xaina  \\n hasni ki runi yo Des ko awastha politicians dekhera dikka nai lagyo', 'Bangladesh le aaile pani 40 billion dollar  ko export garxa garment ko Nepal vaney jaile j ma pani paxadi matra', 'First comment', 'nice bro..very informative..good work.', 'लु IT उधममा सामुहिक लगानि सहित काम गर्न म पनि ईच्छुक छु', 'Mero area ma ni tannai thula sana garmet factory thiyo aile namnisana meti sakyo', 'Boom content', 'Resham chaoudhary ko story pani janna paaye hunthyo', 'Premiere herexe, feri upload wala video herne mah matrai haina hola ', '', 'Pls guys make video on caste cruelty in nepal', 'owo... great ...', 'Nepal ko aaile ko export haru k k cha tesma video banauna paryo', 'bro sponsorship gara yr paisa kamauna xaina kayo', 'एउटाले कुखुरा पाल्यो अर्कोले नि पाल्न पर्ने, एउटा विदेश गयो अर्को नि जानु पर्ने, एउटा लाहुरे भो  अर्को नि हुनुपर्ने नेपालीको सिपले एस्तो नियति भैराख्नेछ .', '️️', 'रास्ट्र चलाउनका निम्ति योग्य,देशप्रेमी,जनताप्रेमी कुनै बाहिरिप्रभावमा नपरी निर्धक्क रास्ट्रलाइ अघि बढने मान्छे नभए सम्म यस्तै हो बाहिरी हस्तक्षेप चलिरहन्छ।जस्ले गर्दा देशलाइ विकास हुन दिदैनन।', '️️', ' wow', 'Ohoo k tyo tyo Tibet issues????', 'Mero buwa le kathmandu ko garment ma kaam garnu vako thyo', 'Yaar ma नि नेपाली मा ff Fact video banaune garxu but no support no views plz', 'Muji runa maan lagyo ', 'Aba ko 10 yrs Nepal ko Agarabtti industry Haru pani death Hunxa', 'Sala nepal ma planning vanne nae koe chaena tesaele ho. Planning garne lae thau ma basna didaenan vitra vitrae sab khaera sakkauna aaatisake', 'नेपालमा यो जतिको जानकारी मुलक अर्को च्यानल छैन   धन्यवाद सबै टिमलाई', 'Tapailay bhaneko jasto yetiko thulo ta haina tara sano bhayepani aaafanai desh ma khi garchu bhanera sano garment factory mero pani thiyo tara tara tara yaha kaam garna dherai garo cha, ra aja ma mero business stop garera aru country ma kaam garna jadai chu.. \\nKailay hamro desh responsible bancha ?', 'What caused the death of the Nepali garment industry\\n\\nNeoliberalism', 'नेपाली र बाँदर same chum बाठो भयेर tamatar chepney ', '️', '', '', 'Kina kina sundai kasto naramro lagcha.. \\nRAJA le kholeko sab factory banda garyo.. NEPALI TALIBAN  harule..', '', 'Prachandey ra usko kathit \"jana\" yuddha le garda banda bhayeko ho yo sab', 'Dammi️️️', 'Dirty politics destroyed everything', \"Disclaimer️ don't watch and follow this channel if you hate the truth/reality ️\", 'नियमित दर्सक', '', '', 'Das_Ossam', 'first bhanera comment garna lagheko. tanai aai sakexan', 'Bruh yr yesto channel haru herdae.. ris utcha runa man lagcha.. tmy haru problem matrw kna dekhauchau.. yesto education vako manchey chunab ma Uther desh lae badleu na..plz', 'haet....!!!', 'HOR', 'Ghjn', 'Bro resham Chaudhary maa euta video banauna yo in-depth story le ta sarai khattam kuro garyo.', '', 'Bro resham Chaudhary maa euta video banauna yo in-depth story le ta sarai khattam kuro garyo.']\n",
      "                                              comments sentiments\n",
      "0    Nepal was a leading country in material indust...          1\n",
      "1    I never knew we had such a early head start in...          1\n",
      "2    My dad owned a garment factory during that tim...          1\n",
      "3    Loved the video bro , you must now be consiste...          1\n",
      "4    Was garment industry the only industry in Nepa...          1\n",
      "..                                                 ...        ...\n",
      "172                                                HOR          1\n",
      "173                                               Ghjn          1\n",
      "174  Bro resham Chaudhary maa euta video banauna yo...          1\n",
      "175                                                             1\n",
      "176  Bro resham Chaudhary maa euta video banauna yo...          1\n",
      "\n",
      "[177 rows x 2 columns]\n"
     ]
    }
   ],
   "source": [
    "if __name__ == \"__main__\":\n",
    "\n",
    "    urls = [\n",
    "        #\"https://www.youtube.com/watch?v=jzZ_H3o22ew&t=40s&ab_channel=TheNepaliComment\",\n",
    "        #\"https://www.youtube.com/watch?v=-98cWnkOJ6M&ab_channel=TheNepaliComment\",\n",
    "        #\"https://www.youtube.com/watch?v=EQ2BAEWPzgI&ab_channel=TheNepaliComment\",\n",
    "        #\"https://www.youtube.com/watch?v=0jcF4qkDR44&ab_channel=TheNepaliComment\",\n",
    "        #\"https://www.youtube.com/watch?v=5EKTofqQ99o&t=6s&ab_channel=TheNepaliComment\",\n",
    "        #\"https://www.youtube.com/watch?v=lXi2jF5ZFjk&t=145s&ab_channel=TheNepaliComment\",\n",
    "        #\"https://www.youtube.com/watch?v=87qg4zTfNPE&ab_channel=TheNepaliComment\",\n",
    "        #\"https://www.youtube.com/watch?v=U2eMk_mnLfM&t=6s&ab_channel=TheNepaliComment\",\n",
    "        #\"https://www.youtube.com/watch?v=4SLAb425ht8&t=22s&ab_channel=TheNepaliComment\",\n",
    "        #\"https://www.youtube.com/watch?v=hrGWQVdbu1I&t=327s&ab_channel=TheNepaliComment\",\n",
    "        \"https://www.youtube.com/watch?v=9jX5hM7cLWU&ab_channel=TheNepaliComment\",\n",
    "    ]\n",
    "    \n",
    "    for x in urls:\n",
    "        ScrapComment(x)"
   ]
  },
  {
   "cell_type": "code",
   "execution_count": null,
   "metadata": {},
   "outputs": [],
   "source": []
  }
 ],
 "metadata": {
  "kernelspec": {
   "display_name": "base",
   "language": "python",
   "name": "python3"
  },
  "language_info": {
   "codemirror_mode": {
    "name": "ipython",
    "version": 3
   },
   "file_extension": ".py",
   "mimetype": "text/x-python",
   "name": "python",
   "nbconvert_exporter": "python",
   "pygments_lexer": "ipython3",
   "version": "3.9.13"
  },
  "orig_nbformat": 4,
  "vscode": {
   "interpreter": {
    "hash": "7b9de5f633baef838eda09087c377b407887e2414fdad0aa392eeb39aea32887"
   }
  }
 },
 "nbformat": 4,
 "nbformat_minor": 2
}

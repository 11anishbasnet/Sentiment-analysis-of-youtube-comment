{
 "cells": [
  {
   "cell_type": "code",
   "execution_count": 64,
   "metadata": {},
   "outputs": [],
   "source": [
    "import pandas as pd\n",
    "import numpy as np\n",
    "import seaborn as sns\n",
    "import matplotlib.pyplot as plt\n",
    "\n",
    "data = pd.read_csv(\"C:\\\\Users\\\\11ani\\\\OneDrive\\\\Desktop\\\\project 7th sem code\\\\clean_comments\\\\traindata\\\\traindata.csv\", index_col=[0])\n",
    "data = data.reset_index(drop=True)"
   ]
  },
  {
   "cell_type": "code",
   "execution_count": 65,
   "metadata": {},
   "outputs": [
    {
     "name": "stdout",
     "output_type": "stream",
     "text": [
      "length= 3826 \n",
      "pos_count 2604 \n",
      "neg_count 1222\n"
     ]
    }
   ],
   "source": [
    "\n",
    "length = len(data)  # finding out length of the datframe\n",
    "pos_count = len(data[data['sentiments'] == 1])  # counting positive_sentiments\n",
    "neg_count = len(data[data['sentiments'] == 0])  # counting negative_sentiments\n",
    "print ('length=',length,'\\npos_count',pos_count,'\\nneg_count',neg_count,)"
   ]
  },
  {
   "cell_type": "code",
   "execution_count": 66,
   "metadata": {},
   "outputs": [
    {
     "data": {
      "image/png": "[encoded data removed]",
      "text/plain": [
       "<Figure size 640x480 with 1 Axes>"
      ]
     },
     "metadata": {},
     "output_type": "display_data"
    }
   ],
   "source": [
    "\n",
    "\n",
    "sns.countplot(y=\"sentiments\",data=data)#plotting the data\n",
    "plt.show()"
   ]
  },
  {
   "cell_type": "code",
   "execution_count": 67,
   "metadata": {},
   "outputs": [],
   "source": [
    "\n",
    "def sentence_to_words(sentence):\n",
    "\n",
    "    l = sentence.split()  # split sentence into individual word(tokanize)\n",
    "    p = ''\n",
    "    word_list = []\n",
    "\n",
    "    for word in l:\n",
    "\n",
    "        p = ''\n",
    "\n",
    "        for letter in word:\n",
    "\n",
    "            if ord(letter) >= 67 and ord(letter) <= 122:\n",
    "                p = p + letter\n",
    "        word_list.append(p)\n",
    "\n",
    "    return word_list  # return the word list of the input comments\n",
    "    \n",
    "\n",
    "def naive_bayes_train(X, Y, a=0.000001):#a is laplace smoothing added to avoid overall prob being zero\n",
    "    n_length = len(X)\n",
    "    n_class_pos = len(Y[Y == 1])\n",
    "    n_class_neg = len(Y[Y == 0])\n",
    "    prior_pos = n_class_pos / n_length  # prior probability for  class\n",
    "    prior_neg = n_class_neg / n_length  #prior probability for class \n",
    "    (n, p, bag) = bag_of_words_maker(X, Y)\n",
    "\n",
    "    pr = {}\n",
    "\n",
    "    for i in range(len(bag)):   #evaluating the likelihood prob for each word given a class\n",
    "        p_pos = (bag['count_pos'][i] + a) / (p + len(bag) * a)\n",
    "\n",
    "        p_neg = (bag['count_neg'][i] + a) / (n + len(bag) * a)\n",
    "\n",
    "        pr[bag['index'][i]] = [p_pos, p_neg]\n",
    "    pr = pd.DataFrame(pr).T\n",
    "    pr.columns = ['sent=positive', 'sent=negative']\n",
    "    pr = pr.reset_index()\n",
    "\n",
    "    return (prior_pos, prior_neg, pr)\n",
    "\n",
    "def naive_bayes_predict(X, pr, prior_pos, prior_neg):\n",
    "    Y = []\n",
    "\n",
    "    for i in range(len(X)):\n",
    "        k_pos = 1\n",
    "        k_neg = 1\n",
    "        p = sentence_to_words(X[i])\n",
    "\n",
    "        for k in range(len(pr)):\n",
    "\n",
    "            for word in p:\n",
    "\n",
    "                if word == pr['index'][k]:\n",
    "                    k_pos = k_pos * pr['sent=positive'][k] #product of likelihood prob given the word is present in vocabulary \n",
    "                    k_neg = k_neg * pr['sent=negative'][k]\n",
    "\n",
    "        \n",
    "        nb = [prior_neg * k_neg, prior_pos * k_pos] # multiply each likelihood prob with the prior prob and find out which class prob is greater\n",
    "        Y.append(np.argmax(nb))#sentence bvelongs to class with greater prob\n",
    "\n",
    "    return Y\n",
    "\n",
    "def bag_of_words_maker(X, Y):\n",
    "\n",
    "    bag_dict_binary_NB_pos = {} #keeping track of the positive class words\n",
    "    bag_dict_binary_NB_neg = {} #keeping track of the negative class words\n",
    "  \n",
    "    for i in range(len(X)):\n",
    "        p = sentence_to_words(X[i])\n",
    "        sent = Y[i]\n",
    "        x_pos = {}\n",
    "        x_neg = {} #we intialize the dict every iteration so that it does not consider repititions .(Binary NB)\n",
    "\n",
    "        if sent == 1:\n",
    "            for word in p:\n",
    "\n",
    "                if word in x_pos.keys():\n",
    "                    x_pos[word] = [x_pos[word][0] + 1, x_pos[word][1]]  #word is the key and value stored is [count, sentiment]\n",
    "                else:\n",
    "                    x_pos[word] = [1, sent]\n",
    "\n",
    "            for key in x_pos.keys():\n",
    "\n",
    "                if key in bag_dict_binary_NB_pos.keys():\n",
    "                    bag_dict_binary_NB_pos[key] = \\\n",
    "                        [bag_dict_binary_NB_pos[key][0] + 1,\n",
    "                         bag_dict_binary_NB_pos[key][1]]\n",
    "                else:\n",
    "\n",
    "                    bag_dict_binary_NB_pos[key] = [1, sent]  #storing it in the final dict \n",
    "\n",
    "        if sent == 0:\n",
    "\n",
    "            for word in p:\n",
    "                if word in x_neg.keys():\n",
    "                    x_neg[word] = [x_neg[word][0] + 1, x_neg[word][1]]\n",
    "                else:\n",
    "                    x_neg[word] = [1, sent]\n",
    "            for key in x_neg.keys():\n",
    "                if key in bag_dict_binary_NB_neg.keys():\n",
    "                    bag_dict_binary_NB_neg[key] = \\\n",
    "                        [bag_dict_binary_NB_neg[key][0] + 1,\n",
    "                         bag_dict_binary_NB_neg[key][1]]\n",
    "                else:\n",
    "\n",
    "                    bag_dict_binary_NB_neg[key] = [1, sent]\n",
    "\n",
    "    # print(bag_dict_multi.keys())\n",
    "    # returns the dataframe containg word count in each sentiment \n",
    "    neg_bag = pd.DataFrame(bag_dict_binary_NB_neg).T\n",
    "    pos_bag = pd.DataFrame(bag_dict_binary_NB_pos).T\n",
    "\n",
    "    neg_bag.columns = ['count_neg', 'sentiment_neg']\n",
    "    pos_bag.columns = ['count_pos', 'sentiment_pos']\n",
    "    neg_bag = neg_bag.reset_index()\n",
    "    pos_bag = pos_bag.reset_index()\n",
    "    n = len(neg_bag)\n",
    "    p = len(pos_bag)\n",
    "    bag_of_words = pd.merge(neg_bag, pos_bag, on=['index'], how='outer')\n",
    "    bag_of_words['count_neg'] = bag_of_words['count_neg'].fillna(0)\n",
    "    bag_of_words['count_pos'] = bag_of_words['count_pos'].fillna(0)\n",
    "    bag_of_words['sentiment_neg'] = bag_of_words['sentiment_neg'].fillna(0)\n",
    "    bag_of_words['sentiment_pos'] = bag_of_words['sentiment_pos'].fillna(1)\n",
    "\n",
    "    return (n, p, bag_of_words)\n",
    "\n"
   ]
  },
  {
   "cell_type": "code",
   "execution_count": 68,
   "metadata": {},
   "outputs": [
    {
     "name": "stdout",
     "output_type": "stream",
     "text": [
      "6119   4509\n"
     ]
    },
    {
     "data": {
      "text/html": [
       "<div>\n",
       "<style scoped>\n",
       "    .dataframe tbody tr th:only-of-type {\n",
       "        vertical-align: middle;\n",
       "    }\n",
       "\n",
       "    .dataframe tbody tr th {\n",
       "        vertical-align: top;\n",
       "    }\n",
       "\n",
       "    .dataframe thead th {\n",
       "        text-align: right;\n",
       "    }\n",
       "</style>\n",
       "<table border=\"1\" class=\"dataframe\">\n",
       "  <thead>\n",
       "    <tr style=\"text-align: right;\">\n",
       "      <th></th>\n",
       "      <th>index</th>\n",
       "      <th>count_neg</th>\n",
       "      <th>sentiment_neg</th>\n",
       "      <th>count_pos</th>\n",
       "      <th>sentiment_pos</th>\n",
       "    </tr>\n",
       "  </thead>\n",
       "  <tbody>\n",
       "    <tr>\n",
       "      <th>0</th>\n",
       "      <td>im</td>\n",
       "      <td>6.0</td>\n",
       "      <td>0.0</td>\n",
       "      <td>28.0</td>\n",
       "      <td>1.0</td>\n",
       "    </tr>\n",
       "    <tr>\n",
       "      <th>1</th>\n",
       "      <td>go</td>\n",
       "      <td>51.0</td>\n",
       "      <td>0.0</td>\n",
       "      <td>100.0</td>\n",
       "      <td>1.0</td>\n",
       "    </tr>\n",
       "    <tr>\n",
       "      <th>2</th>\n",
       "      <td>say</td>\n",
       "      <td>36.0</td>\n",
       "      <td>0.0</td>\n",
       "      <td>44.0</td>\n",
       "      <td>1.0</td>\n",
       "    </tr>\n",
       "    <tr>\n",
       "      <th>3</th>\n",
       "      <td>never</td>\n",
       "      <td>71.0</td>\n",
       "      <td>0.0</td>\n",
       "      <td>30.0</td>\n",
       "      <td>1.0</td>\n",
       "    </tr>\n",
       "    <tr>\n",
       "      <th>4</th>\n",
       "      <td>imagine</td>\n",
       "      <td>3.0</td>\n",
       "      <td>0.0</td>\n",
       "      <td>10.0</td>\n",
       "      <td>1.0</td>\n",
       "    </tr>\n",
       "    <tr>\n",
       "      <th>...</th>\n",
       "      <td>...</td>\n",
       "      <td>...</td>\n",
       "      <td>...</td>\n",
       "      <td>...</td>\n",
       "      <td>...</td>\n",
       "    </tr>\n",
       "    <tr>\n",
       "      <th>8512</th>\n",
       "      <td>smooth</td>\n",
       "      <td>0.0</td>\n",
       "      <td>0.0</td>\n",
       "      <td>7.0</td>\n",
       "      <td>1.0</td>\n",
       "    </tr>\n",
       "    <tr>\n",
       "      <th>8513</th>\n",
       "      <td>bhutanese</td>\n",
       "      <td>0.0</td>\n",
       "      <td>0.0</td>\n",
       "      <td>1.0</td>\n",
       "      <td>1.0</td>\n",
       "    </tr>\n",
       "    <tr>\n",
       "      <th>8514</th>\n",
       "      <td>affert</td>\n",
       "      <td>0.0</td>\n",
       "      <td>0.0</td>\n",
       "      <td>1.0</td>\n",
       "      <td>1.0</td>\n",
       "    </tr>\n",
       "    <tr>\n",
       "      <th>8515</th>\n",
       "      <td>hinda</td>\n",
       "      <td>0.0</td>\n",
       "      <td>0.0</td>\n",
       "      <td>1.0</td>\n",
       "      <td>1.0</td>\n",
       "    </tr>\n",
       "    <tr>\n",
       "      <th>8516</th>\n",
       "      <td>kehe</td>\n",
       "      <td>0.0</td>\n",
       "      <td>0.0</td>\n",
       "      <td>1.0</td>\n",
       "      <td>1.0</td>\n",
       "    </tr>\n",
       "  </tbody>\n",
       "</table>\n",
       "<p>8517 rows × 5 columns</p>\n",
       "</div>"
      ],
      "text/plain": [
       "          index  count_neg  sentiment_neg  count_pos  sentiment_pos\n",
       "0            im        6.0            0.0       28.0            1.0\n",
       "1            go       51.0            0.0      100.0            1.0\n",
       "2           say       36.0            0.0       44.0            1.0\n",
       "3         never       71.0            0.0       30.0            1.0\n",
       "4       imagine        3.0            0.0       10.0            1.0\n",
       "...         ...        ...            ...        ...            ...\n",
       "8512     smooth        0.0            0.0        7.0            1.0\n",
       "8513  bhutanese        0.0            0.0        1.0            1.0\n",
       "8514     affert        0.0            0.0        1.0            1.0\n",
       "8515      hinda        0.0            0.0        1.0            1.0\n",
       "8516       kehe        0.0            0.0        1.0            1.0\n",
       "\n",
       "[8517 rows x 5 columns]"
      ]
     },
     "execution_count": 68,
     "metadata": {},
     "output_type": "execute_result"
    }
   ],
   "source": [
    "x = data['clean_comments']\n",
    "y = data['sentiments']\n",
    "(n, p, bag_of_words) = bag_of_words_maker(x, y)\n",
    "print (n, ' ', p)\n",
    "bag_of_words"
   ]
  },
  {
   "cell_type": "code",
   "execution_count": 69,
   "metadata": {},
   "outputs": [
    {
     "name": "stdout",
     "output_type": "stream",
     "text": [
      "0.6806063774176686 0.3193936225823314\n"
     ]
    }
   ],
   "source": [
    "import pickle\n",
    "(prior_pos,prior_neg,table) = naive_bayes_train(x,y)\n",
    "#saving it in bag of word as bag for later predection\n",
    "table.to_csv(\"bag.csv\")\n",
    "\n",
    "#saving prior value in csv for later use\n",
    "dat = [prior_pos,prior_neg]\n",
    "prior = pd.DataFrame(dat, columns=['prior'])\n",
    "prior.to_csv(\"prior.csv\")\n",
    "\n",
    "a = prior.iloc[0]['prior']\n",
    "b = prior.iloc[1]['prior']\n",
    "print(a,b)\n",
    "\n",
    "pickle.dump(table,open('bag.pkl','wb'))\n",
    "pickle.dump(prior_pos,open('prior_pos.pkl','wb'))\n",
    "pickle.dump(prior_pos,open('prior_neg.pkl','wb'))"
   ]
  },
  {
   "cell_type": "code",
   "execution_count": 70,
   "metadata": {},
   "outputs": [
    {
     "ename": "KeyboardInterrupt",
     "evalue": "",
     "output_type": "error",
     "traceback": [
      "\u001b[1;31m---------------------------------------------------------------------------\u001b[0m",
      "\u001b[1;31mKeyboardInterrupt\u001b[0m                         Traceback (most recent call last)",
      "Cell \u001b[1;32mIn[70], line 16\u001b[0m\n\u001b[0;32m     11\u001b[0m x_test \u001b[39m=\u001b[39m x_test\u001b[39m.\u001b[39mreset_index(drop\u001b[39m=\u001b[39m\u001b[39mTrue\u001b[39;00m)\n\u001b[0;32m     14\u001b[0m (prior_pos, prior_neg, bag) \u001b[39m=\u001b[39m naive_bayes_train(x_train,y_train)\n\u001b[1;32m---> 16\u001b[0m y_predicted \u001b[39m=\u001b[39m naive_bayes_predict(x_test,bag,prior_pos,prior_neg)\n",
      "Cell \u001b[1;32mIn[67], line 54\u001b[0m, in \u001b[0;36mnaive_bayes_predict\u001b[1;34m(X, pr, prior_pos, prior_neg)\u001b[0m\n\u001b[0;32m     50\u001b[0m \u001b[39mfor\u001b[39;00m k \u001b[39min\u001b[39;00m \u001b[39mrange\u001b[39m(\u001b[39mlen\u001b[39m(pr)):\n\u001b[0;32m     52\u001b[0m     \u001b[39mfor\u001b[39;00m word \u001b[39min\u001b[39;00m p:\n\u001b[1;32m---> 54\u001b[0m         \u001b[39mif\u001b[39;00m word \u001b[39m==\u001b[39m pr[\u001b[39m'\u001b[39;49m\u001b[39mindex\u001b[39;49m\u001b[39m'\u001b[39;49m][k]:\n\u001b[0;32m     55\u001b[0m             k_pos \u001b[39m=\u001b[39m k_pos \u001b[39m*\u001b[39m pr[\u001b[39m'\u001b[39m\u001b[39msent=positive\u001b[39m\u001b[39m'\u001b[39m][k] \u001b[39m#product of likelihood prob given the word is present in vocabulary \u001b[39;00m\n\u001b[0;32m     56\u001b[0m             k_neg \u001b[39m=\u001b[39m k_neg \u001b[39m*\u001b[39m pr[\u001b[39m'\u001b[39m\u001b[39msent=negative\u001b[39m\u001b[39m'\u001b[39m][k]\n",
      "File \u001b[1;32m~\\AppData\\Roaming\\Python\\Python39\\site-packages\\pandas\\core\\frame.py:3774\u001b[0m, in \u001b[0;36mDataFrame.__getitem__\u001b[1;34m(self, key)\u001b[0m\n\u001b[0;32m   3767\u001b[0m \u001b[39m# GH#45316 Return view if key is not duplicated\u001b[39;00m\n\u001b[0;32m   3768\u001b[0m \u001b[39m# Only use drop_duplicates with duplicates for performance\u001b[39;00m\n\u001b[0;32m   3769\u001b[0m \u001b[39mif\u001b[39;00m \u001b[39mnot\u001b[39;00m is_mi \u001b[39mand\u001b[39;00m (\n\u001b[0;32m   3770\u001b[0m     \u001b[39mself\u001b[39m\u001b[39m.\u001b[39mcolumns\u001b[39m.\u001b[39mis_unique\n\u001b[0;32m   3771\u001b[0m     \u001b[39mand\u001b[39;00m key \u001b[39min\u001b[39;00m \u001b[39mself\u001b[39m\u001b[39m.\u001b[39mcolumns\n\u001b[0;32m   3772\u001b[0m     \u001b[39mor\u001b[39;00m key \u001b[39min\u001b[39;00m \u001b[39mself\u001b[39m\u001b[39m.\u001b[39mcolumns\u001b[39m.\u001b[39mdrop_duplicates(keep\u001b[39m=\u001b[39m\u001b[39mFalse\u001b[39;00m)\n\u001b[0;32m   3773\u001b[0m ):\n\u001b[1;32m-> 3774\u001b[0m     \u001b[39mreturn\u001b[39;00m \u001b[39mself\u001b[39;49m\u001b[39m.\u001b[39;49m_get_item_cache(key)\n\u001b[0;32m   3776\u001b[0m \u001b[39melif\u001b[39;00m is_mi \u001b[39mand\u001b[39;00m \u001b[39mself\u001b[39m\u001b[39m.\u001b[39mcolumns\u001b[39m.\u001b[39mis_unique \u001b[39mand\u001b[39;00m key \u001b[39min\u001b[39;00m \u001b[39mself\u001b[39m\u001b[39m.\u001b[39mcolumns:\n\u001b[0;32m   3777\u001b[0m     \u001b[39mreturn\u001b[39;00m \u001b[39mself\u001b[39m\u001b[39m.\u001b[39m_getitem_multilevel(key)\n",
      "File \u001b[1;32m~\\AppData\\Roaming\\Python\\Python39\\site-packages\\pandas\\core\\frame.py:4274\u001b[0m, in \u001b[0;36mDataFrame._get_item_cache\u001b[1;34m(self, item)\u001b[0m\n\u001b[0;32m   4271\u001b[0m \u001b[39mdef\u001b[39;00m \u001b[39m_clear_item_cache\u001b[39m(\u001b[39mself\u001b[39m) \u001b[39m-\u001b[39m\u001b[39m>\u001b[39m \u001b[39mNone\u001b[39;00m:\n\u001b[0;32m   4272\u001b[0m     \u001b[39mself\u001b[39m\u001b[39m.\u001b[39m_item_cache\u001b[39m.\u001b[39mclear()\n\u001b[1;32m-> 4274\u001b[0m \u001b[39mdef\u001b[39;00m \u001b[39m_get_item_cache\u001b[39m(\u001b[39mself\u001b[39m, item: Hashable) \u001b[39m-\u001b[39m\u001b[39m>\u001b[39m Series:\n\u001b[0;32m   4275\u001b[0m     \u001b[39m\"\"\"Return the cached item, item represents a label indexer.\"\"\"\u001b[39;00m\n\u001b[0;32m   4276\u001b[0m     cache \u001b[39m=\u001b[39m \u001b[39mself\u001b[39m\u001b[39m.\u001b[39m_item_cache\n",
      "\u001b[1;31mKeyboardInterrupt\u001b[0m: "
     ]
    }
   ],
   "source": [
    "\n",
    "from sklearn.model_selection import train_test_split\n",
    "\n",
    "\n",
    "X = data[\"clean_comments\"]\n",
    "Y = data[\"sentiments\"]\n",
    "x_train, x_test, y_train, y_test = train_test_split(X,Y,test_size=0.2, random_state=42)#splitting comments into train 80% and test 20%\n",
    "\n",
    "x_train = x_train.reset_index(drop=True)#dropping previous index from pandas dataframe\n",
    "y_train = y_train.reset_index(drop=True)\n",
    "y_test = y_test.reset_index(drop=True)\n",
    "x_test = x_test.reset_index(drop=True)\n",
    "\n",
    "\n",
    "(prior_pos, prior_neg, bag) = naive_bayes_train(x_train,y_train)\n",
    "\n",
    "y_predicted = naive_bayes_predict(x_test,bag,prior_pos,prior_neg)\n"
   ]
  },
  {
   "cell_type": "code",
   "execution_count": null,
   "metadata": {},
   "outputs": [
    {
     "data": {
      "image/png": "[encoded data removed]",
      "text/plain": [
       "<Figure size 640x480 with 2 Axes>"
      ]
     },
     "metadata": {},
     "output_type": "display_data"
    },
    {
     "name": "stdout",
     "output_type": "stream",
     "text": [
      "Accuracy= 0.8193891102257637\n",
      "precsion= 0.8691588785046729\n",
      "recall= 0.8757062146892656\n",
      "flscore 0.8724202626641652\n"
     ]
    }
   ],
   "source": [
    "#getting accuracy of the model\n",
    "from sklearn.metrics import confusion_matrix\n",
    "from sklearn import metrics\n",
    "\n",
    "confusion_matrix = metrics.confusion_matrix(y_test,np.array(y_predicted))\n",
    "(tn, fp, fn, tp) = confusion_matrix.ravel()\n",
    "\n",
    "cm_display = metrics.ConfusionMatrixDisplay(confusion_matrix = confusion_matrix, display_labels = [False, True])\n",
    "cm_display.plot()\n",
    "plt.show()\n",
    "\n",
    "Accuracy = (tp + tn)/(tp + tn + fp + fn)\n",
    "print ('Accuracy=', Accuracy)\n",
    "\n",
    "precsion = tp / (tp + fp)\n",
    "print ('precsion=', precsion)\n",
    "\n",
    "recall = tp / (tp + fn)\n",
    "print ('recall=', recall)\n",
    "\n",
    "flscore = (2 * precsion * recall)/(precsion + recall)\n",
    "print('flscore', flscore)\n"
   ]
  },
  {
   "cell_type": "code",
   "execution_count": null,
   "metadata": {},
   "outputs": [
    {
     "name": "stdout",
     "output_type": "stream",
     "text": [
      "                                              comments  sentiments  \\\n",
      "0    Nepal was a leading country in material indust...           0   \n",
      "1    I never knew we had such a early head start in...           1   \n",
      "2    My dad owned a garment factory during that tim...           0   \n",
      "3    Loved the video bro , you must now be consiste...           1   \n",
      "4    Was garment industry the only industry in Nepa...           0   \n",
      "..                                                 ...         ...   \n",
      "171                                        haet....!!!           1   \n",
      "172                                                HOR           1   \n",
      "173                                               Ghjn           1   \n",
      "174  Bro resham Chaudhary maa euta video banauna yo...           0   \n",
      "176  Bro resham Chaudhary maa euta video banauna yo...           0   \n",
      "\n",
      "                                        clean_comments  \n",
      "0    nepal lead country material industry sad see c...  \n",
      "1    never know early head start garment industry u...  \n",
      "2    dad own garment factory time use feel proud se...  \n",
      "3    love video bro must consistent many u addictiv...  \n",
      "4    garment industry industry nepalwhat industry w...  \n",
      "..                                                 ...  \n",
      "171                                               haet  \n",
      "172                                                hor  \n",
      "173                                               ghjn  \n",
      "174  bro resham chaudhary maa euta video banauna yo...  \n",
      "176  bro resham chaudhary maa euta video banauna yo...  \n",
      "\n",
      "[160 rows x 3 columns]\n"
     ]
    }
   ],
   "source": [
    "#looping for all videos\n",
    "for i in range(1):\n",
    "    #now predecting for youtube videos individually\n",
    "    df = pd.read_csv(\"C:\\\\Users\\\\11ani\\\\OneDrive\\\\Desktop\\\\project 7th sem code\\\\clean_comments\\\\\"+str(i)+'clean.csv', index_col=[0])\n",
    "    \n",
    "    Z = df['clean_comments']\n",
    "    Z = Z.reset_index(drop=True)\n",
    "    z_predicted = naive_bayes_predict(Z, bag, prior_pos, prior_neg)\n",
    "    #z_predicted\n",
    "    #saving predicted sentiments into dataframe and to csv\n",
    "    df['sentiments'] = z_predicted\n",
    "    df.to_csv(\"C:\\\\Users\\\\11ani\\\\OneDrive\\Desktop\\\\project 7th sem code\\\\predected_comments\\\\\"+str(i)+\"predected.csv\")\n",
    "    print(df)\n"
   ]
  },
  {
   "cell_type": "code",
   "execution_count": null,
   "metadata": {},
   "outputs": [
    {
     "name": "stdout",
     "output_type": "stream",
     "text": [
      "length= 160 \n",
      "pos_count 113 \n",
      "neg_count 47\n",
      "                                              comments  sentiments  \\\n",
      "0    Nepal was a leading country in material indust...           0   \n",
      "1    I never knew we had such a early head start in...           1   \n",
      "2    My dad owned a garment factory during that tim...           0   \n",
      "3    Loved the video bro , you must now be consiste...           1   \n",
      "4    Was garment industry the only industry in Nepa...           0   \n",
      "..                                                 ...         ...   \n",
      "171                                        haet....!!!           1   \n",
      "172                                                HOR           1   \n",
      "173                                               Ghjn           1   \n",
      "174  Bro resham Chaudhary maa euta video banauna yo...           0   \n",
      "176  Bro resham Chaudhary maa euta video banauna yo...           0   \n",
      "\n",
      "                                        clean_comments  \n",
      "0    nepal lead country material industry sad see c...  \n",
      "1    never know early head start garment industry u...  \n",
      "2    dad own garment factory time use feel proud se...  \n",
      "3    love video bro must consistent many u addictiv...  \n",
      "4    garment industry industry nepalwhat industry w...  \n",
      "..                                                 ...  \n",
      "171                                               haet  \n",
      "172                                                hor  \n",
      "173                                               ghjn  \n",
      "174  bro resham chaudhary maa euta video banauna yo...  \n",
      "176  bro resham chaudhary maa euta video banauna yo...  \n",
      "\n",
      "[160 rows x 3 columns]\n"
     ]
    },
    {
     "data": {
      "image/png": "[encoded data removed]",
      "text/plain": [
       "<Figure size 640x480 with 1 Axes>"
      ]
     },
     "metadata": {},
     "output_type": "display_data"
    }
   ],
   "source": [
    "#analysis of comments\n",
    "length = len(df)  # finding out length of the datframe\n",
    "pos_count = len(df[df['sentiments'] == 1])  # counting positive_sentiments\n",
    "neg_count = len(df[df['sentiments'] == 0])  # counting negative_sentiments\n",
    "print ('length=',length,'\\npos_count',pos_count,'\\nneg_count',neg_count,)\n",
    "\n",
    "y = np.array([pos_count,neg_count])\n",
    "mylabels = [\"positive comments\", \"negative comments\"]\n",
    "print(df)\n",
    "plt.pie(y, labels= mylabels,  autopct='%1.1f%%')\n",
    "plt.show() "
   ]
  },
  {
   "cell_type": "code",
   "execution_count": null,
   "metadata": {},
   "outputs": [],
   "source": []
  }
 ],
 "metadata": {
  "kernelspec": {
   "display_name": "base",
   "language": "python",
   "name": "python3"
  },
  "language_info": {
   "codemirror_mode": {
    "name": "ipython",
    "version": 3
   },
   "file_extension": ".py",
   "mimetype": "text/x-python",
   "name": "python",
   "nbconvert_exporter": "python",
   "pygments_lexer": "ipython3",
   "version": "3.9.13"
  },
  "orig_nbformat": 4,
  "vscode": {
   "interpreter": {
    "hash": "7b9de5f633baef838eda09087c377b407887e2414fdad0aa392eeb39aea32887"
   }
  }
 },
 "nbformat": 4,
 "nbformat_minor": 2
}
